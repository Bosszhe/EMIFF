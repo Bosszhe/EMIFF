{
 "cells": [
  {
   "cell_type": "code",
   "execution_count": 1,
   "metadata": {},
   "outputs": [
    {
     "ename": "NameError",
     "evalue": "name 'img' is not defined",
     "output_type": "error",
     "traceback": [
      "\u001b[0;31m---------------------------------------------------------------------------\u001b[0m",
      "\u001b[0;31mNameError\u001b[0m                                 Traceback (most recent call last)",
      "\u001b[1;32m/home/wangz/wangzhe21/HBEVFuser/mmdet3d_v1_0_0rc4/mmdetection3d/tools/debug.ipynb Cell 1\u001b[0m in \u001b[0;36m<cell line: 3>\u001b[0;34m()\u001b[0m\n\u001b[1;32m      <a href='vscode-notebook-cell://ssh-remote%2B7b22686f73744e616d65223a224133302d383a31227d/home/wangz/wangzhe21/HBEVFuser/mmdet3d_v1_0_0rc4/mmdetection3d/tools/debug.ipynb#W0sdnNjb2RlLXJlbW90ZQ%3D%3D?line=0'>1</a>\u001b[0m \u001b[39mimport\u001b[39;00m \u001b[39mmmcv\u001b[39;00m\n\u001b[1;32m      <a href='vscode-notebook-cell://ssh-remote%2B7b22686f73744e616d65223a224133302d383a31227d/home/wangz/wangzhe21/HBEVFuser/mmdet3d_v1_0_0rc4/mmdetection3d/tools/debug.ipynb#W0sdnNjb2RlLXJlbW90ZQ%3D%3D?line=1'>2</a>\u001b[0m \u001b[39mimport\u001b[39;00m \u001b[39mnumpy\u001b[39;00m \u001b[39mas\u001b[39;00m \u001b[39mnp\u001b[39;00m\n\u001b[0;32m----> <a href='vscode-notebook-cell://ssh-remote%2B7b22686f73744e616d65223a224133302d383a31227d/home/wangz/wangzhe21/HBEVFuser/mmdet3d_v1_0_0rc4/mmdetection3d/tools/debug.ipynb#W0sdnNjb2RlLXJlbW90ZQ%3D%3D?line=2'>3</a>\u001b[0m a \u001b[39m=\u001b[39m img[\u001b[39m1\u001b[39m,\u001b[39m0\u001b[39m,\u001b[39m.\u001b[39m\u001b[39m.\u001b[39m\u001b[39m.\u001b[39m] \n\u001b[1;32m      <a href='vscode-notebook-cell://ssh-remote%2B7b22686f73744e616d65223a224133302d383a31227d/home/wangz/wangzhe21/HBEVFuser/mmdet3d_v1_0_0rc4/mmdetection3d/tools/debug.ipynb#W0sdnNjb2RlLXJlbW90ZQ%3D%3D?line=3'>4</a>\u001b[0m a \u001b[39m=\u001b[39m a\u001b[39m.\u001b[39mdetach()\u001b[39m.\u001b[39mcpu()\u001b[39m.\u001b[39mnumpy()\n\u001b[1;32m      <a href='vscode-notebook-cell://ssh-remote%2B7b22686f73744e616d65223a224133302d383a31227d/home/wangz/wangzhe21/HBEVFuser/mmdet3d_v1_0_0rc4/mmdetection3d/tools/debug.ipynb#W0sdnNjb2RlLXJlbW90ZQ%3D%3D?line=4'>5</a>\u001b[0m a \u001b[39m=\u001b[39m a\u001b[39m.\u001b[39mtranspose(\u001b[39m1\u001b[39m,\u001b[39m2\u001b[39m,\u001b[39m0\u001b[39m)\n",
      "\u001b[0;31mNameError\u001b[0m: name 'img' is not defined"
     ]
    }
   ],
   "source": [
    "import mmcv\n",
    "import numpy as np\n",
    "\n",
    "# img [bs,2,3,H,W]\n",
    "a = img[1,0,...] \n",
    "a = a.detach().cpu().numpy()\n",
    "a = a.transpose(1,2,0)\n",
    "\n",
    "str = 'veh_1'\n",
    "\n",
    "img_mean=np.array([123.675, 116.28, 103.53])\n",
    "img_std=np.array([58.395, 57.12, 57.375])\n",
    "to_rgb = True\n",
    "\n",
    "# a [H,W,3]\n",
    "im = mmcv.imdenormalize(a, img_mean, img_std, to_rgb)\n",
    "mmcv.imwrite(im, str+'_img.png')"
   ]
  },
  {
   "cell_type": "code",
   "execution_count": null,
   "metadata": {},
   "outputs": [],
   "source": [
    "import cv2\n",
    "a_new = np.uint8(a.cpu()*255)\n",
    "# print(a_new.max(),a_new.min())\n",
    "cv2.imwrite('vis_results_dair/heatmap_imgs/'+str(batch_id)+'_'+str(i)+'_gt.png',a_new)\n",
    "\n",
    "b = confidences_inf[...,0].detach().cpu().numpy()\n",
    "for i in range(4):\n",
    "    x = b[i]\n",
    "    a_new = np.uint8(x*255)\n",
    "    cv2.imwrite('inf_'+str(i)+'.jpg',a_new)"
   ]
  },
  {
   "cell_type": "code",
   "execution_count": null,
   "metadata": {},
   "outputs": [],
   "source": [
    "python tools/create_data.py  kitti --root-path ./data/0114_single_inf --out-dir ./data/0114_single_inf --extra-tag single_inf_0114 "
   ]
  },
  {
   "cell_type": "code",
   "execution_count": 1,
   "metadata": {},
   "outputs": [],
   "source": [
    "import mmcv\n",
    "pkl_path = '/home/wangz/wangzhe21/HBEVFuser/mmdet3d_v1_0_0rc4/mmdetection3d/work_dirs/0129_vicfuser_voxel_msca_sc_c64s1_ccm_r50_960x540_12e_bs2x1/20230207_213432_eval_results.pkl'\n",
    "a = mmcv.load(pkl_path)"
   ]
  },
  {
   "cell_type": "code",
   "execution_count": 9,
   "metadata": {},
   "outputs": [
    {
     "name": "stdout",
     "output_type": "stream",
     "text": [
      "dict_keys(['boxes_3d', 'scores_3d', 'labels_3d'])\n",
      "LiDARInstance3DBoxes(\n",
      "    tensor([[ 32.2025,  -2.4050,  -1.7568,   1.9719,   4.2912,   1.6148,   1.6795],\n",
      "        [ 59.3165,   9.4892,  -1.6336,   1.9068,   4.2673,   1.5298,   4.7067],\n",
      "        [ 77.8498,  -6.3937,  -1.7231,   1.9317,   4.2687,   1.5758,   1.5604],\n",
      "        [ 44.0362, -21.9753,  -1.4854,   1.9071,   4.7115,   1.5423,   0.1513],\n",
      "        [ 28.7291,  37.3001,  -2.0453,   1.9096,   4.3926,   1.6207,   3.1563]]))\n",
      "tensor([0.7201, 0.5894, 0.5421, 0.3596, 0.3313])\n",
      "tensor([0, 0, 0, 0, 0])\n"
     ]
    }
   ],
   "source": [
    "print(a[0].keys())\n",
    "print(a[0]['boxes_3d'])\n",
    "print(a[0]['scores_3d'])\n",
    "print(a[0]['labels_3d'])\n",
    "\n"
   ]
  },
  {
   "cell_type": "code",
   "execution_count": 20,
   "metadata": {},
   "outputs": [],
   "source": [
    "imagesets_veh_path = '/home/wangz/wangzhe21/HBEVFuser/mmdet3d_v1_0_0rc4/mmdetection3d/data/1026_vic/ImageSets/veh/train.txt'\n",
    "\n",
    "imagesets_inf_path = '/home/wangz/wangzhe21/HBEVFuser/mmdet3d_v1_0_0rc4/mmdetection3d/data/1026_vic/ImageSets/inf/train.txt'\n",
    "\n",
    "with open(imagesets_veh_path, 'r') as f:\n",
    "    veh_lines = f.readlines()\n",
    "\n",
    "content_veh = [line.strip() for line in veh_lines]\n",
    "\n",
    "with open(imagesets_inf_path, 'r') as f:\n",
    "    inf_lines = f.readlines()\n",
    "\n",
    "content_inf = [line.strip() for line in inf_lines]\n",
    "\n",
    "id_dict = dict()\n",
    "for i in range(len(content_veh)):\n",
    "    id_dict[content_veh[i]] = content_inf[i]\n"
   ]
  },
  {
   "cell_type": "code",
   "execution_count": 19,
   "metadata": {},
   "outputs": [],
   "source": [
    "import json\n",
    "# ap_results_str = json.dumps(id_dict, indent=2)\n",
    "\n",
    "with open('veh2inf_train_id_dict.json', 'w') as f:\n",
    "    json.dump(id_dict,f,indent=2)"
   ]
  }
 ],
 "metadata": {
  "kernelspec": {
   "display_name": "Python 3.8.13 ('BEVDepth')",
   "language": "python",
   "name": "python3"
  },
  "language_info": {
   "codemirror_mode": {
    "name": "ipython",
    "version": 3
   },
   "file_extension": ".py",
   "mimetype": "text/x-python",
   "name": "python",
   "nbconvert_exporter": "python",
   "pygments_lexer": "ipython3",
   "version": "3.8.13"
  },
  "orig_nbformat": 4,
  "vscode": {
   "interpreter": {
    "hash": "cd2e1d0c8908df3adafa5136f993d1f9b0130c8ffd76f17d8796f29406d6d2d4"
   }
  }
 },
 "nbformat": 4,
 "nbformat_minor": 2
}
